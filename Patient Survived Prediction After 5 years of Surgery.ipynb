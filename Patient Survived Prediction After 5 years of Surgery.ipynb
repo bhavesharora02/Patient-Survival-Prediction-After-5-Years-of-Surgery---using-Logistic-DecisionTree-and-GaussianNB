{
 "cells": [
  {
   "cell_type": "markdown",
   "id": "862ed623-4d2e-490d-a1d8-fd28e98ad74a",
   "metadata": {},
   "source": [
    "Import the dependencies!"
   ]
  },
  {
   "cell_type": "code",
   "execution_count": 1,
   "id": "be4ad548-f74e-4c6d-a26c-3e5df1cd9e60",
   "metadata": {},
   "outputs": [],
   "source": [
    "import numpy as np\n",
    "import pandas as pd"
   ]
  },
  {
   "cell_type": "code",
   "execution_count": 2,
   "id": "798765ab-612e-43e5-8e55-92362844db01",
   "metadata": {},
   "outputs": [],
   "source": [
    "df = pd.read_csv('haberman.csv')"
   ]
  },
  {
   "cell_type": "code",
   "execution_count": 4,
   "id": "d296ba29-be74-4c1c-8f36-e0f13e45dc21",
   "metadata": {},
   "outputs": [
    {
     "data": {
      "text/html": [
       "<div>\n",
       "<style scoped>\n",
       "    .dataframe tbody tr th:only-of-type {\n",
       "        vertical-align: middle;\n",
       "    }\n",
       "\n",
       "    .dataframe tbody tr th {\n",
       "        vertical-align: top;\n",
       "    }\n",
       "\n",
       "    .dataframe thead th {\n",
       "        text-align: right;\n",
       "    }\n",
       "</style>\n",
       "<table border=\"1\" class=\"dataframe\">\n",
       "  <thead>\n",
       "    <tr style=\"text-align: right;\">\n",
       "      <th></th>\n",
       "      <th>age</th>\n",
       "      <th>operational_year</th>\n",
       "      <th>exil_node</th>\n",
       "      <th>survival</th>\n",
       "    </tr>\n",
       "  </thead>\n",
       "  <tbody>\n",
       "    <tr>\n",
       "      <th>0</th>\n",
       "      <td>30</td>\n",
       "      <td>64</td>\n",
       "      <td>1</td>\n",
       "      <td>1</td>\n",
       "    </tr>\n",
       "    <tr>\n",
       "      <th>1</th>\n",
       "      <td>30</td>\n",
       "      <td>62</td>\n",
       "      <td>3</td>\n",
       "      <td>1</td>\n",
       "    </tr>\n",
       "    <tr>\n",
       "      <th>2</th>\n",
       "      <td>30</td>\n",
       "      <td>65</td>\n",
       "      <td>0</td>\n",
       "      <td>1</td>\n",
       "    </tr>\n",
       "    <tr>\n",
       "      <th>3</th>\n",
       "      <td>31</td>\n",
       "      <td>59</td>\n",
       "      <td>2</td>\n",
       "      <td>1</td>\n",
       "    </tr>\n",
       "    <tr>\n",
       "      <th>4</th>\n",
       "      <td>31</td>\n",
       "      <td>65</td>\n",
       "      <td>4</td>\n",
       "      <td>1</td>\n",
       "    </tr>\n",
       "  </tbody>\n",
       "</table>\n",
       "</div>"
      ],
      "text/plain": [
       "   age   operational_year  exil_node  survival\n",
       "0    30                64          1         1\n",
       "1    30                62          3         1\n",
       "2    30                65          0         1\n",
       "3    31                59          2         1\n",
       "4    31                65          4         1"
      ]
     },
     "execution_count": 4,
     "metadata": {},
     "output_type": "execute_result"
    }
   ],
   "source": [
    "df.head()"
   ]
  },
  {
   "cell_type": "markdown",
   "id": "9205379b-6ce7-42a7-babd-adffdb904c6a",
   "metadata": {},
   "source": [
    "Six Questions"
   ]
  },
  {
   "cell_type": "code",
   "execution_count": 5,
   "id": "69f63426-e9b3-4ae5-a7c1-ceaffc1fbacd",
   "metadata": {},
   "outputs": [
    {
     "data": {
      "text/plain": [
       "(306, 4)"
      ]
     },
     "execution_count": 5,
     "metadata": {},
     "output_type": "execute_result"
    }
   ],
   "source": [
    "df.shape"
   ]
  },
  {
   "cell_type": "code",
   "execution_count": 6,
   "id": "9cf69e71-26b5-4d86-b08a-769b3207899a",
   "metadata": {},
   "outputs": [
    {
     "data": {
      "text/plain": [
       "age                 0\n",
       "operational_year    0\n",
       "exil_node           0\n",
       "survival            0\n",
       "dtype: int64"
      ]
     },
     "execution_count": 6,
     "metadata": {},
     "output_type": "execute_result"
    }
   ],
   "source": [
    "df.isnull().sum()"
   ]
  },
  {
   "cell_type": "code",
   "execution_count": 8,
   "id": "b36c2f44-e9a9-499e-934f-9a34cdf9a5d6",
   "metadata": {},
   "outputs": [
    {
     "data": {
      "text/plain": [
       "17"
      ]
     },
     "execution_count": 8,
     "metadata": {},
     "output_type": "execute_result"
    }
   ],
   "source": [
    "df.duplicated().sum()"
   ]
  },
  {
   "cell_type": "code",
   "execution_count": 9,
   "id": "46a52663-3e05-49ad-b515-6ab37f85f7ef",
   "metadata": {},
   "outputs": [],
   "source": [
    "df.drop_duplicates(inplace=True)"
   ]
  },
  {
   "cell_type": "code",
   "execution_count": 10,
   "id": "bab1d843-0b9c-4360-8bfc-b344586fa128",
   "metadata": {},
   "outputs": [
    {
     "data": {
      "text/plain": [
       "0"
      ]
     },
     "execution_count": 10,
     "metadata": {},
     "output_type": "execute_result"
    }
   ],
   "source": [
    "df.duplicated().sum()"
   ]
  },
  {
   "cell_type": "code",
   "execution_count": 11,
   "id": "8421da18-5f8a-4aad-bed6-4500d0cfd6e8",
   "metadata": {},
   "outputs": [
    {
     "name": "stdout",
     "output_type": "stream",
     "text": [
      "<class 'pandas.core.frame.DataFrame'>\n",
      "Index: 289 entries, 0 to 305\n",
      "Data columns (total 4 columns):\n",
      " #   Column            Non-Null Count  Dtype\n",
      "---  ------            --------------  -----\n",
      " 0   age               289 non-null    int64\n",
      " 1   operational_year  289 non-null    int64\n",
      " 2   exil_node         289 non-null    int64\n",
      " 3   survival          289 non-null    int64\n",
      "dtypes: int64(4)\n",
      "memory usage: 11.3 KB\n"
     ]
    }
   ],
   "source": [
    "df.info()"
   ]
  },
  {
   "cell_type": "code",
   "execution_count": 12,
   "id": "4910eaf3-a83a-482d-8a2d-795b3337a481",
   "metadata": {},
   "outputs": [
    {
     "data": {
      "text/html": [
       "<div>\n",
       "<style scoped>\n",
       "    .dataframe tbody tr th:only-of-type {\n",
       "        vertical-align: middle;\n",
       "    }\n",
       "\n",
       "    .dataframe tbody tr th {\n",
       "        vertical-align: top;\n",
       "    }\n",
       "\n",
       "    .dataframe thead th {\n",
       "        text-align: right;\n",
       "    }\n",
       "</style>\n",
       "<table border=\"1\" class=\"dataframe\">\n",
       "  <thead>\n",
       "    <tr style=\"text-align: right;\">\n",
       "      <th></th>\n",
       "      <th>age</th>\n",
       "      <th>operational_year</th>\n",
       "      <th>exil_node</th>\n",
       "      <th>survival</th>\n",
       "    </tr>\n",
       "  </thead>\n",
       "  <tbody>\n",
       "    <tr>\n",
       "      <th>count</th>\n",
       "      <td>289.000000</td>\n",
       "      <td>289.000000</td>\n",
       "      <td>289.000000</td>\n",
       "      <td>289.000000</td>\n",
       "    </tr>\n",
       "    <tr>\n",
       "      <th>mean</th>\n",
       "      <td>52.422145</td>\n",
       "      <td>62.906574</td>\n",
       "      <td>4.221453</td>\n",
       "      <td>1.273356</td>\n",
       "    </tr>\n",
       "    <tr>\n",
       "      <th>std</th>\n",
       "      <td>10.876915</td>\n",
       "      <td>3.275794</td>\n",
       "      <td>7.325239</td>\n",
       "      <td>0.446455</td>\n",
       "    </tr>\n",
       "    <tr>\n",
       "      <th>min</th>\n",
       "      <td>30.000000</td>\n",
       "      <td>58.000000</td>\n",
       "      <td>0.000000</td>\n",
       "      <td>1.000000</td>\n",
       "    </tr>\n",
       "    <tr>\n",
       "      <th>25%</th>\n",
       "      <td>44.000000</td>\n",
       "      <td>60.000000</td>\n",
       "      <td>0.000000</td>\n",
       "      <td>1.000000</td>\n",
       "    </tr>\n",
       "    <tr>\n",
       "      <th>50%</th>\n",
       "      <td>52.000000</td>\n",
       "      <td>63.000000</td>\n",
       "      <td>1.000000</td>\n",
       "      <td>1.000000</td>\n",
       "    </tr>\n",
       "    <tr>\n",
       "      <th>75%</th>\n",
       "      <td>60.000000</td>\n",
       "      <td>66.000000</td>\n",
       "      <td>5.000000</td>\n",
       "      <td>2.000000</td>\n",
       "    </tr>\n",
       "    <tr>\n",
       "      <th>max</th>\n",
       "      <td>83.000000</td>\n",
       "      <td>69.000000</td>\n",
       "      <td>52.000000</td>\n",
       "      <td>2.000000</td>\n",
       "    </tr>\n",
       "  </tbody>\n",
       "</table>\n",
       "</div>"
      ],
      "text/plain": [
       "             age   operational_year   exil_node    survival\n",
       "count  289.000000        289.000000  289.000000  289.000000\n",
       "mean    52.422145         62.906574    4.221453    1.273356\n",
       "std     10.876915          3.275794    7.325239    0.446455\n",
       "min     30.000000         58.000000    0.000000    1.000000\n",
       "25%     44.000000         60.000000    0.000000    1.000000\n",
       "50%     52.000000         63.000000    1.000000    1.000000\n",
       "75%     60.000000         66.000000    5.000000    2.000000\n",
       "max     83.000000         69.000000   52.000000    2.000000"
      ]
     },
     "execution_count": 12,
     "metadata": {},
     "output_type": "execute_result"
    }
   ],
   "source": [
    "df.describe()"
   ]
  },
  {
   "cell_type": "markdown",
   "id": "46548287-54a9-4639-9eb7-643c88758e7a",
   "metadata": {},
   "source": [
    "EDA - Exploratory Data Analysis"
   ]
  },
  {
   "cell_type": "code",
   "execution_count": 14,
   "id": "12c8740c-d73d-4afe-b701-704cd71f4991",
   "metadata": {},
   "outputs": [],
   "source": [
    "#correlation\n",
    "corr = df.corr()"
   ]
  },
  {
   "cell_type": "code",
   "execution_count": 18,
   "id": "3913fae5-873c-4e07-b1ac-f6e8bc8c99cd",
   "metadata": {},
   "outputs": [
    {
     "data": {
      "text/plain": [
       "<Axes: >"
      ]
     },
     "execution_count": 18,
     "metadata": {},
     "output_type": "execute_result"
    },
    {
     "data": {
      "image/png": "[encoded data removed]",
      "text/plain": [
       "<Figure size 640x480 with 2 Axes>"
      ]
     },
     "metadata": {},
     "output_type": "display_data"
    }
   ],
   "source": [
    "import seaborn as sns\n",
    "sns.heatmap(corr, annot=True, cbar=True, cmap='plasma')"
   ]
  },
  {
   "cell_type": "markdown",
   "id": "aa8fc1c0-c83d-4b29-a992-e01427e2421e",
   "metadata": {},
   "source": [
    "Univariate Analysis"
   ]
  },
  {
   "cell_type": "markdown",
   "id": "0ad507c7-907f-4e95-9caa-549dce5be9f0",
   "metadata": {},
   "source": [
    "Histogram and Distribution Plot"
   ]
  },
  {
   "cell_type": "code",
   "execution_count": 24,
   "id": "73a43045-6030-4e06-9af9-3f51089ec2a1",
   "metadata": {},
   "outputs": [
    {
     "name": "stderr",
     "output_type": "stream",
     "text": [
      "C:\\Users\\DELL\\AppData\\Local\\Temp\\ipykernel_29592\\1353139330.py:1: UserWarning: \n",
      "\n",
      "`distplot` is a deprecated function and will be removed in seaborn v0.14.0.\n",
      "\n",
      "Please adapt your code to use either `displot` (a figure-level function with\n",
      "similar flexibility) or `histplot` (an axes-level function for histograms).\n",
      "\n",
      "For a guide to updating your code to use the new functions, please see\n",
      "https://gist.github.com/mwaskom/de44147ed2974457ad6372750bbe5751\n",
      "\n",
      "  sns.distplot(df['age '])\n"
     ]
    },
    {
     "data": {
      "text/plain": [
       "<Axes: xlabel='age ', ylabel='Density'>"
      ]
     },
     "execution_count": 24,
     "metadata": {},
     "output_type": "execute_result"
    },
    {
     "data": {
      "image/png": "[encoded data removed]",
      "text/plain": [
       "<Figure size 640x480 with 1 Axes>"
      ]
     },
     "metadata": {},
     "output_type": "display_data"
    }
   ],
   "source": [
    "sns.distplot(df['age '])"
   ]
  },
  {
   "cell_type": "code",
   "execution_count": 26,
   "id": "1635421c-7703-4bfd-ac54-5659d49fe3b7",
   "metadata": {},
   "outputs": [
    {
     "name": "stderr",
     "output_type": "stream",
     "text": [
      "C:\\Users\\DELL\\AppData\\Local\\Temp\\ipykernel_29592\\1164331168.py:1: UserWarning: \n",
      "\n",
      "`distplot` is a deprecated function and will be removed in seaborn v0.14.0.\n",
      "\n",
      "Please adapt your code to use either `displot` (a figure-level function with\n",
      "similar flexibility) or `histplot` (an axes-level function for histograms).\n",
      "\n",
      "For a guide to updating your code to use the new functions, please see\n",
      "https://gist.github.com/mwaskom/de44147ed2974457ad6372750bbe5751\n",
      "\n",
      "  sns.distplot(df['operational_year'])\n"
     ]
    },
    {
     "data": {
      "text/plain": [
       "<Axes: xlabel='operational_year', ylabel='Density'>"
      ]
     },
     "execution_count": 26,
     "metadata": {},
     "output_type": "execute_result"
    },
    {
     "data": {
      "image/png": "[encoded data removed]",
      "text/plain": [
       "<Figure size 640x480 with 1 Axes>"
      ]
     },
     "metadata": {},
     "output_type": "display_data"
    }
   ],
   "source": [
    "sns.distplot(df['operational_year'])"
   ]
  },
  {
   "cell_type": "code",
   "execution_count": 29,
   "id": "32cd26fc-1f8d-44bb-bd8a-92a5d177bc02",
   "metadata": {},
   "outputs": [
    {
     "data": {
      "text/plain": [
       "<Axes: xlabel='age ', ylabel='Count'>"
      ]
     },
     "execution_count": 29,
     "metadata": {},
     "output_type": "execute_result"
    },
    {
     "data": {
      "image/png": "[encoded data removed]",
      "text/plain": [
       "<Figure size 640x480 with 1 Axes>"
      ]
     },
     "metadata": {},
     "output_type": "display_data"
    }
   ],
   "source": [
    "sns.histplot(df['age '])"
   ]
  },
  {
   "cell_type": "markdown",
   "id": "9d30e922-feac-4942-8fc9-5423b8b719c5",
   "metadata": {},
   "source": [
    "Relation"
   ]
  },
  {
   "cell_type": "code",
   "execution_count": 32,
   "id": "a21cea64-bcf6-497d-a2bc-68d03ac23b3b",
   "metadata": {},
   "outputs": [
    {
     "data": {
      "text/plain": [
       "<Axes: xlabel='age ', ylabel='operational_year'>"
      ]
     },
     "execution_count": 32,
     "metadata": {},
     "output_type": "execute_result"
    },
    {
     "data": {
      "image/png": "[encoded data removed]",
      "text/plain": [
       "<Figure size 640x480 with 1 Axes>"
      ]
     },
     "metadata": {},
     "output_type": "display_data"
    }
   ],
   "source": [
    "sns.scatterplot(x=df['age '], y=df['operational_year']) "
   ]
  },
  {
   "cell_type": "markdown",
   "id": "67e933cb-0bd3-489f-bff9-9811d138b3ed",
   "metadata": {},
   "source": [
    "train test split"
   ]
  },
  {
   "cell_type": "code",
   "execution_count": 33,
   "id": "868537a3-99c0-466f-a816-4cd80c75fd17",
   "metadata": {},
   "outputs": [],
   "source": [
    "X = df.drop(\"survival\", axis=1)\n",
    "y = df['survival']\n"
   ]
  },
  {
   "cell_type": "code",
   "execution_count": 34,
   "id": "b5dc54ef-5fe5-4017-b9e3-b8f8b3303ba1",
   "metadata": {},
   "outputs": [
    {
     "data": {
      "text/plain": [
       "(289, 3)"
      ]
     },
     "execution_count": 34,
     "metadata": {},
     "output_type": "execute_result"
    }
   ],
   "source": [
    "X.shape"
   ]
  },
  {
   "cell_type": "code",
   "execution_count": 35,
   "id": "a33811a9-38b2-4b9d-8d69-5eca5b06a2fc",
   "metadata": {},
   "outputs": [],
   "source": [
    "from sklearn.model_selection import train_test_split"
   ]
  },
  {
   "cell_type": "code",
   "execution_count": 36,
   "id": "e712af8e-463a-4914-8fe8-0fa7bb3b1c1e",
   "metadata": {},
   "outputs": [],
   "source": [
    "X_train, X_test, y_train, y_test = train_test_split(X,y,test_size=0.2,random_state=42)"
   ]
  },
  {
   "cell_type": "code",
   "execution_count": 37,
   "id": "bbbe9096-5532-45ee-a2a7-b95dc31936f3",
   "metadata": {},
   "outputs": [
    {
     "data": {
      "text/plain": [
       "(231, 3)"
      ]
     },
     "execution_count": 37,
     "metadata": {},
     "output_type": "execute_result"
    }
   ],
   "source": [
    "X_train.shape"
   ]
  },
  {
   "cell_type": "markdown",
   "id": "ec2398d8-42a8-4138-ab45-f4cbaf23de1a",
   "metadata": {},
   "source": [
    "Training models"
   ]
  },
  {
   "cell_type": "code",
   "execution_count": 38,
   "id": "564685e5-9f78-4714-8f61-6388537df2c2",
   "metadata": {},
   "outputs": [
    {
     "data": {
      "text/plain": [
       "survival\n",
       "1    210\n",
       "2     79\n",
       "Name: count, dtype: int64"
      ]
     },
     "execution_count": 38,
     "metadata": {},
     "output_type": "execute_result"
    }
   ],
   "source": [
    "df['survival'].value_counts()"
   ]
  },
  {
   "cell_type": "markdown",
   "id": "232f0c60-2ed5-4a11-97c8-1276b41a3a49",
   "metadata": {},
   "source": [
    "Selecting Model"
   ]
  },
  {
   "cell_type": "code",
   "execution_count": 40,
   "id": "4498b3de-fcd3-4352-ba3b-db3883ac48d0",
   "metadata": {},
   "outputs": [],
   "source": [
    "from sklearn.linear_model import LogisticRegression\n",
    "from sklearn.tree import DecisionTreeClassifier\n",
    "from sklearn.naive_bayes import GaussianNB\n",
    "from sklearn.metrics import accuracy_score"
   ]
  },
  {
   "cell_type": "code",
   "execution_count": 41,
   "id": "a0f730cc-c5c8-4cac-aced-34d29197bc74",
   "metadata": {},
   "outputs": [
    {
     "name": "stdout",
     "output_type": "stream",
     "text": [
      "lg with accuracy : 0.7413793103448276\n",
      "dtc with accuracy : 0.6724137931034483\n",
      "gnb with accuracy : 0.7241379310344828\n"
     ]
    }
   ],
   "source": [
    "models = {\n",
    "    'lg':LogisticRegression(),\n",
    "    'dtc':DecisionTreeClassifier(),\n",
    "    'gnb':GaussianNB()\n",
    "}\n",
    "\n",
    "for name, mod in models.items():\n",
    "    mod.fit(X_train, y_train)\n",
    "    y_pred = mod.predict(X_test)\n",
    "\n",
    "    print(f\"{name} with accuracy : {accuracy_score(y_test, y_pred)}\")"
   ]
  },
  {
   "cell_type": "code",
   "execution_count": 42,
   "id": "59a359b8-8a19-4a7a-ba35-f5b9a353cd86",
   "metadata": {},
   "outputs": [
    {
     "data": {
      "text/plain": [
       "array([1, 1, 1, 1, 1, 2, 1, 1, 1, 1, 1, 1, 1, 1, 2, 1, 1, 2, 1, 1, 1, 1,\n",
       "       1, 1, 1, 1, 1, 1, 1, 1, 1, 1, 2, 2, 1, 1, 1, 1, 1, 1, 1, 1, 1, 1,\n",
       "       1, 2, 1, 1, 1, 2, 1, 1, 1, 1, 2, 2, 1, 1], dtype=int64)"
      ]
     },
     "execution_count": 42,
     "metadata": {},
     "output_type": "execute_result"
    }
   ],
   "source": [
    "lg = LogisticRegression()\n",
    "lg.fit(X_train, y_train)\n",
    "lg.predict(X_test)"
   ]
  },
  {
   "cell_type": "markdown",
   "id": "f7993d87-d29d-4bfb-a19e-cc46d62a6a61",
   "metadata": {},
   "source": [
    "Prediction System"
   ]
  },
  {
   "cell_type": "code",
   "execution_count": 47,
   "id": "15663ff6-3a96-491b-a8c7-5e0b73d866fe",
   "metadata": {},
   "outputs": [
    {
     "name": "stderr",
     "output_type": "stream",
     "text": [
      "C:\\Users\\DELL\\AppData\\Local\\Programs\\Python\\Python312\\Lib\\site-packages\\sklearn\\base.py:493: UserWarning: X does not have valid feature names, but LogisticRegression was fitted with feature names\n",
      "  warnings.warn(\n"
     ]
    },
    {
     "data": {
      "text/plain": [
       "array([1], dtype=int64)"
      ]
     },
     "execution_count": 47,
     "metadata": {},
     "output_type": "execute_result"
    }
   ],
   "source": [
    "def pred(age,oy,en):\n",
    "    features = np.array([[age,oy,en]])\n",
    "    pred = lg.predict(features).reshape(1,-1)\n",
    "    return pred[0]\n",
    "\n",
    "\n",
    "age = 50\n",
    "oy = 61\n",
    "en = 2\n",
    "\n",
    "pred(age,oy,en)"
   ]
  },
  {
   "cell_type": "code",
   "execution_count": 48,
   "id": "4c1a5929-b85d-434b-8e2a-bd2e8c7dc7de",
   "metadata": {},
   "outputs": [
    {
     "name": "stderr",
     "output_type": "stream",
     "text": [
      "C:\\Users\\DELL\\AppData\\Local\\Programs\\Python\\Python312\\Lib\\site-packages\\sklearn\\base.py:493: UserWarning: X does not have valid feature names, but LogisticRegression was fitted with feature names\n",
      "  warnings.warn(\n"
     ]
    },
    {
     "data": {
      "text/plain": [
       "array([1], dtype=int64)"
      ]
     },
     "execution_count": 48,
     "metadata": {},
     "output_type": "execute_result"
    }
   ],
   "source": [
    "def pred(age,oy,en):\n",
    "    features = np.array([[age,oy,en]])\n",
    "    pred = lg.predict(features).reshape(1,-1)\n",
    "    return pred[0]\n",
    "\n",
    "\n",
    "age = 88\n",
    "oy = 69\n",
    "en = 1\n",
    "\n",
    "pred(age,oy,en)"
   ]
  },
  {
   "cell_type": "code",
   "execution_count": 49,
   "id": "aaa7e8e8-528f-4ee4-a40b-b8dcd084bf3a",
   "metadata": {},
   "outputs": [
    {
     "name": "stderr",
     "output_type": "stream",
     "text": [
      "C:\\Users\\DELL\\AppData\\Local\\Programs\\Python\\Python312\\Lib\\site-packages\\sklearn\\base.py:493: UserWarning: X does not have valid feature names, but LogisticRegression was fitted with feature names\n",
      "  warnings.warn(\n"
     ]
    },
    {
     "data": {
      "text/plain": [
       "array([1], dtype=int64)"
      ]
     },
     "execution_count": 49,
     "metadata": {},
     "output_type": "execute_result"
    }
   ],
   "source": [
    "def pred(age,oy,en):\n",
    "    features = np.array([[age,oy,en]])\n",
    "    pred = lg.predict(features).reshape(1,-1)\n",
    "    return pred[0]\n",
    "\n",
    "\n",
    "age = 25\n",
    "oy = 60\n",
    "en = 3\n",
    "\n",
    "pred(age,oy,en)"
   ]
  },
  {
   "cell_type": "code",
   "execution_count": 50,
   "id": "b2fed130-fd9c-4e6a-b638-405916f20903",
   "metadata": {},
   "outputs": [
    {
     "name": "stderr",
     "output_type": "stream",
     "text": [
      "C:\\Users\\DELL\\AppData\\Local\\Programs\\Python\\Python312\\Lib\\site-packages\\sklearn\\base.py:493: UserWarning: X does not have valid feature names, but LogisticRegression was fitted with feature names\n",
      "  warnings.warn(\n"
     ]
    },
    {
     "data": {
      "text/plain": [
       "array([1], dtype=int64)"
      ]
     },
     "execution_count": 50,
     "metadata": {},
     "output_type": "execute_result"
    }
   ],
   "source": [
    "def pred(age,oy,en):\n",
    "    features = np.array([[age,oy,en]])\n",
    "    pred = lg.predict(features).reshape(1,-1)\n",
    "    return pred[0]\n",
    "\n",
    "\n",
    "age = 34\n",
    "oy = 59\n",
    "en = 0\n",
    "\n",
    "pred(age,oy,en)"
   ]
  },
  {
   "cell_type": "code",
   "execution_count": 53,
   "id": "2d3d42b5-16b3-4b66-b020-ea6e029870d4",
   "metadata": {},
   "outputs": [
    {
     "data": {
      "text/plain": [
       "array([1, 1, 1, 1, 1, 2, 2, 1, 1, 1, 1, 1, 1, 2, 2, 1, 1, 2, 1, 2, 1, 1,\n",
       "       1, 1, 1, 1, 2, 1, 2, 1, 1, 1, 2, 1, 1, 1, 1, 2, 2, 1, 1, 1, 2, 1,\n",
       "       1, 1, 1, 1, 1, 2, 1, 1, 1, 1, 1, 1, 2, 1], dtype=int64)"
      ]
     },
     "execution_count": 53,
     "metadata": {},
     "output_type": "execute_result"
    }
   ],
   "source": [
    "dtc = DecisionTreeClassifier()\n",
    "dtc.fit(X_train, y_train)\n",
    "dtc.predict(X_test)"
   ]
  },
  {
   "cell_type": "code",
   "execution_count": 54,
   "id": "e7edecfa-1123-4b66-80e2-246223f64dcc",
   "metadata": {},
   "outputs": [
    {
     "name": "stderr",
     "output_type": "stream",
     "text": [
      "C:\\Users\\DELL\\AppData\\Local\\Programs\\Python\\Python312\\Lib\\site-packages\\sklearn\\base.py:493: UserWarning: X does not have valid feature names, but DecisionTreeClassifier was fitted with feature names\n",
      "  warnings.warn(\n"
     ]
    },
    {
     "data": {
      "text/plain": [
       "array([2], dtype=int64)"
      ]
     },
     "execution_count": 54,
     "metadata": {},
     "output_type": "execute_result"
    }
   ],
   "source": [
    "def pred(age,oy,en):\n",
    "    features = np.array([[age,oy,en]])\n",
    "    pred = dtc.predict(features).reshape(1,-1)\n",
    "    return pred[0]\n",
    "\n",
    "\n",
    "age = 34\n",
    "oy = 59\n",
    "en = 0\n",
    "\n",
    "pred(age,oy,en)"
   ]
  },
  {
   "cell_type": "code",
   "execution_count": 55,
   "id": "bc3d2eb8-07a0-4ced-970f-6f7231121ddb",
   "metadata": {},
   "outputs": [
    {
     "data": {
      "text/plain": [
       "array([1, 1, 1, 1, 1, 2, 1, 1, 1, 1, 1, 1, 1, 1, 2, 1, 1, 2, 1, 1, 1, 1,\n",
       "       1, 1, 1, 1, 1, 1, 1, 1, 2, 1, 2, 2, 1, 1, 1, 1, 1, 1, 1, 1, 1, 1,\n",
       "       1, 2, 1, 1, 1, 2, 1, 1, 1, 1, 2, 2, 1, 1], dtype=int64)"
      ]
     },
     "execution_count": 55,
     "metadata": {},
     "output_type": "execute_result"
    }
   ],
   "source": [
    "gnb = GaussianNB()\n",
    "gnb.fit(X_train, y_train)\n",
    "gnb.predict(X_test)"
   ]
  },
  {
   "cell_type": "code",
   "execution_count": null,
   "id": "1246a326-873f-4666-94e4-2e96a66008bd",
   "metadata": {},
   "outputs": [],
   "source": []
  }
 ],
 "metadata": {
  "kernelspec": {
   "display_name": "Python 3 (ipykernel)",
   "language": "python",
   "name": "python3"
  },
  "language_info": {
   "codemirror_mode": {
    "name": "ipython",
    "version": 3
   },
   "file_extension": ".py",
   "mimetype": "text/x-python",
   "name": "python",
   "nbconvert_exporter": "python",
   "pygments_lexer": "ipython3",
   "version": "3.12.2"
  }
 },
 "nbformat": 4,
 "nbformat_minor": 5
}
